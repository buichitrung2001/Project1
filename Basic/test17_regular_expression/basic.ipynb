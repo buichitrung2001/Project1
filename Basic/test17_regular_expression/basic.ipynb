{
 "metadata": {
  "language_info": {
   "codemirror_mode": {
    "name": "ipython",
    "version": 3
   },
   "file_extension": ".py",
   "mimetype": "text/x-python",
   "name": "python",
   "nbconvert_exporter": "python",
   "pygments_lexer": "ipython3",
   "version": "3.7.4-final"
  },
  "orig_nbformat": 2,
  "kernelspec": {
   "name": "python_defaultSpec_1602038066196",
   "display_name": "Python 3.7.4 64-bit ('base': conda)"
  }
 },
 "nbformat": 4,
 "nbformat_minor": 2,
 "cells": [
  {
   "source": [
    "### Finditer\n",
    "return an object that can be looped through"
   ],
   "cell_type": "markdown",
   "metadata": {}
  },
  {
   "cell_type": "code",
   "execution_count": 2,
   "metadata": {},
   "outputs": [],
   "source": [
    "import re \n",
    "\n",
    "text_to_search = '''\n",
    "abcdefghijklmnopqurtuvwxyz\n",
    "ABCDEFGHIJKLMNOPQRSTUVWXYZ\n",
    "1234567890\n",
    "\n",
    "Ha HaH\n",
    "\n",
    "MetaCharacters (Need to be escaped):  \n",
    ".[{()\\^$|?*+\n",
    "\n",
    "coreyms.com\n",
    "\n",
    "321-555-4321\n",
    "123.555.1234\n",
    "900-134.5424\n",
    "800-134.5424\n",
    "\n",
    "Mr. Schafer\n",
    "Mr Smith\n",
    "Ms Davis\n",
    "Mrs. Robinson\n",
    "Mr. T\n",
    "'''"
   ]
  },
  {
   "cell_type": "code",
   "execution_count": 3,
   "metadata": {
    "tags": []
   },
   "outputs": [
    {
     "output_type": "stream",
     "name": "stdout",
     "text": "<re.Match object; span=(1, 4), match='abc'>\n"
    },
    {
     "output_type": "execute_result",
     "data": {
      "text/plain": "'abc'"
     },
     "metadata": {},
     "execution_count": 3
    }
   ],
   "source": [
    "pattern = re.compile('abc')\n",
    "matches = pattern.finditer(text_to_search)\n",
    "\n",
    "for match in matches: \n",
    "    print(match)\n",
    "text_to_search[1:4]"
   ]
  },
  {
   "source": [
    "### Fillall \n",
    "return list, tuple of group in regular expression that matched"
   ],
   "cell_type": "markdown",
   "metadata": {}
  },
  {
   "cell_type": "code",
   "execution_count": 28,
   "metadata": {
    "tags": []
   },
   "outputs": [
    {
     "output_type": "stream",
     "name": "stdout",
     "text": "('Mr', 'S')\n('Mr', 'S')\n('Ms', 'D')\n('Mrs', 'R')\n('Mr', 'T')\n"
    }
   ],
   "source": [
    "pattern = re.compile(r'(Mr|Ms|Mrs)\\.?\\s([A-Z])\\w*')\n",
    "matches = pattern.findall(text_to_search)\n",
    "\n",
    "for match in matches: \n",
    "    print(match)"
   ]
  },
  {
   "cell_type": "code",
   "execution_count": 24,
   "metadata": {
    "tags": []
   },
   "outputs": [
    {
     "output_type": "stream",
     "name": "stdout",
     "text": "321-555-4321\n123.555.1234\n900-134.5424\n800-134.5424\n"
    }
   ],
   "source": [
    "pattern = re.compile(r'\\d{3}.\\d{3}.\\d{4}')\n",
    "matches = pattern.findall(text_to_search)\n",
    "\n",
    "for match in matches: \n",
    "    print(match)"
   ]
  },
  {
   "source": [
    "### Search \n",
    "return the first match "
   ],
   "cell_type": "markdown",
   "metadata": {}
  },
  {
   "cell_type": "code",
   "execution_count": 29,
   "metadata": {},
   "outputs": [
    {
     "output_type": "execute_result",
     "data": {
      "text/plain": "<re.Match object; span=(9, 11), match='đá'>"
     },
     "metadata": {},
     "execution_count": 29
    }
   ],
   "source": [
    " sentence = \"Con ngựa đá đá con ngựa đá\"\n",
    " # ko care tới viết hoa or thường \n",
    " pattern = re.compile(r\"con\", re.IGNORECASE)  \n",
    " match = pattern.search(sentence)\n",
    " # return none if not found\n",
    " match"
   ]
  },
  {
   "source": [
    "### Group, Sub group"
   ],
   "cell_type": "markdown",
   "metadata": {}
  },
  {
   "cell_type": "code",
   "execution_count": 9,
   "metadata": {},
   "outputs": [],
   "source": [
    "urls = '''\n",
    "https://www.google.com\n",
    "http://coreyms.com\n",
    "https://youtube.com\n",
    "https://www.nasa.gov\n",
    "'''"
   ]
  },
  {
   "cell_type": "code",
   "execution_count": 18,
   "metadata": {
    "tags": []
   },
   "outputs": [
    {
     "output_type": "stream",
     "name": "stdout",
     "text": "https://www.google.com   www.   google.com\nhttp://coreyms.com   None   coreyms.com\nhttps://youtube.com   None   youtube.com\nhttps://www.nasa.gov   www.   nasa.gov\n"
    }
   ],
   "source": [
    "pattern = re.compile('https?://(www\\.)?(\\w+)(\\.\\w+)')\n",
    "\n",
    "matches = pattern.finditer(urls)\n",
    "\n",
    "for match in matches: \n",
    "    print(match.group(0), match.group(1), match.group(2) + match.group(3), sep = \"   \")\n"
   ]
  },
  {
   "cell_type": "code",
   "execution_count": 23,
   "metadata": {
    "tags": []
   },
   "outputs": [
    {
     "output_type": "stream",
     "name": "stdout",
     "text": "\ngoogle haha .com\ncoreyms haha .com\nyoutube haha .com\nnasa haha .gov\n\n"
    }
   ],
   "source": [
    "subbed_urls = pattern.sub(r'\\2 haha \\3', urls)\n",
    "print(subbed_urls)"
   ]
  },
  {
   "cell_type": "code",
   "execution_count": null,
   "metadata": {},
   "outputs": [],
   "source": []
  }
 ]
}