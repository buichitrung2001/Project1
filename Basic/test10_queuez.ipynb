{
 "metadata": {
  "language_info": {
   "codemirror_mode": {
    "name": "ipython",
    "version": 3
   },
   "file_extension": ".py",
   "mimetype": "text/x-python",
   "name": "python",
   "nbconvert_exporter": "python",
   "pygments_lexer": "ipython3",
   "version": "3.8.3-final"
  },
  "orig_nbformat": 2,
  "kernelspec": {
   "name": "python_defaultSpec_1599101275831",
   "display_name": "Python 3.7.4 64-bit ('miniconda3': virtualenv)"
  }
 },
 "nbformat": 4,
 "nbformat_minor": 2,
 "cells": [
  {
   "cell_type": "markdown",
   "metadata": {},
   "source": [
    "+ maxsize – Number of items allowed in the queue.\n",
    "+ empty() – Return True if the queue is empty, False otherwise.\n",
    "+ full() – Return True if there are maxsize items in the queue. If the queue was initialized with maxsize=0 (the default), then full() never returns True.\n",
    "+ get() – Remove and return an item from the queue. If queue is empty, wait until an item is available.\n",
    "+ get_nowait() – Return an item if one is immediately available, else raise QueueEmpty.\n",
    "+ put(item) – Put an item into the queue. If the queue is full, wait until a free slot is available before adding the item.\n",
    "+ put_nowait(item) – Put an item into the queue without blocking.\n",
    "+ qsize() – Return the number of items in the queue. If no free slot is immediately available, raise QueueFull."
   ]
  },
  {
   "cell_type": "code",
   "execution_count": 5,
   "metadata": {},
   "outputs": [],
   "source": [
    "### Initializing a queue "
   ]
  },
  {
   "cell_type": "code",
   "execution_count": 6,
   "metadata": {
    "tags": []
   },
   "outputs": [
    {
     "output_type": "stream",
     "name": "stdout",
     "text": "0\n"
    }
   ],
   "source": [
    "from queue import Queue \n",
    "q = Queue(maxsize = 3) \n",
    "  \n",
    "# qsize() give the maxsize  \n",
    "# of the Queue  \n",
    "print(q.qsize())  "
   ]
  },
  {
   "cell_type": "code",
   "execution_count": 7,
   "metadata": {},
   "outputs": [],
   "source": [
    "### Adding of element to queue "
   ]
  },
  {
   "cell_type": "code",
   "execution_count": 8,
   "metadata": {
    "tags": []
   },
   "outputs": [
    {
     "output_type": "stream",
     "name": "stdout",
     "text": "True\na\nb\nc\n"
    }
   ],
   "source": [
    "q.put('a') \n",
    "q.put('b') \n",
    "q.put('c') \n",
    "  \n",
    "# Return Boolean for Full, maxsize = 0 thì ko bao h trả về True \n",
    "print(q.full())  \n",
    "  \n",
    "# Removing element from queue \n",
    "while q.empty() == False:\n",
    "    print(q.get())"
   ]
  }
 ]
}