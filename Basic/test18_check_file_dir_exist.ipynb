{
 "metadata": {
  "language_info": {
   "codemirror_mode": {
    "name": "ipython",
    "version": 3
   },
   "file_extension": ".py",
   "mimetype": "text/x-python",
   "name": "python",
   "nbconvert_exporter": "python",
   "pygments_lexer": "ipython3",
   "version": "3.7.4-final"
  },
  "orig_nbformat": 2,
  "kernelspec": {
   "name": "Python 3.7.4 64-bit ('base': conda)",
   "display_name": "Python 3.7.4 64-bit ('base': conda)",
   "metadata": {
    "interpreter": {
     "hash": "33f4fca802a9764b5a38160ca0f52723f481dec7b7283a40a74fd3c739008a41"
    }
   }
  }
 },
 "nbformat": 4,
 "nbformat_minor": 2,
 "cells": [
  {
   "cell_type": "code",
   "execution_count": 8,
   "metadata": {},
   "outputs": [
    {
     "output_type": "stream",
     "name": "stdout",
     "text": [
      "True True True\n"
     ]
    }
   ],
   "source": [
    "from pathlib import Path \n",
    "# check file \n",
    "path1 = Path(\"./test14_file.txt\")\n",
    "path2 = Path(\"./test17_regular_expression\")\n",
    "path3 = Path(\"./memo.py\")\n",
    "\n",
    "# check file exist, dir exist, path exist  \n",
    "print(path1.is_file(), path2.is_dir(), path3.exists())"
   ]
  }
 ]
}